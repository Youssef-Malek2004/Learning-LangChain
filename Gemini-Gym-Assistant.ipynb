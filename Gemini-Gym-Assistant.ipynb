{
 "cells": [
  {
   "cell_type": "code",
   "id": "initial_id",
   "metadata": {
    "collapsed": true,
    "ExecuteTime": {
     "end_time": "2025-04-08T06:39:58.160466Z",
     "start_time": "2025-04-08T06:39:58.122969Z"
    }
   },
   "source": [
    "from langchain_openai import ChatOpenAI\n",
    "import os\n",
    "from dotenv import load_dotenv\n",
    "\n",
    "load_dotenv()\n",
    "\n",
    "llm = ChatOpenAI(\n",
    "    model=\"google/gemini-2.0-flash-001\",\n",
    "    api_key=os.getenv(\"OPENAI_API_KEY\"),\n",
    "    base_url=os.getenv(\"OPENAI_API_BASE\"),\n",
    "    temperature=0.2,\n",
    ")\n"
   ],
   "outputs": [],
   "execution_count": 2
  },
  {
   "metadata": {
    "ExecuteTime": {
     "end_time": "2025-04-08T06:52:35.446797Z",
     "start_time": "2025-04-08T06:52:35.431633Z"
    }
   },
   "cell_type": "code",
   "source": [
    "from langchain.tools import tool\n",
    "\n",
    "@tool\n",
    "def estimate_calories(exercise: str, duration_min: int, weight_kg: float) -> str:\n",
    "    \"\"\"This function is used to calculate calories for an exercise. Input the Exercise as string and the duration and the person weight to calculate.\n",
    "    Currently only supports -> Push Ups, Bench Press and Dumbbell Flyes\"\"\"\n",
    "    met_values = {\n",
    "        \"push ups\": 3.8,\n",
    "        \"bench press\": 6.0,\n",
    "        \"dumbbell flyes\": 4.0,\n",
    "    }\n",
    "    met = met_values.get(exercise.lower(), 4.0)\n",
    "    calories = (met * 3.5 * weight_kg / 200) * duration_min\n",
    "    return f\"Estimated {calories:.1f} calories burned doing {exercise} for {duration_min} mins at {weight_kg}kg.\"\n"
   ],
   "id": "3184be5142b505be",
   "outputs": [],
   "execution_count": 34
  },
  {
   "metadata": {
    "ExecuteTime": {
     "end_time": "2025-04-08T06:52:36.208045Z",
     "start_time": "2025-04-08T06:52:36.205399Z"
    }
   },
   "cell_type": "code",
   "source": [
    "from langchain_community.tools.tavily_search import TavilySearchResults\n",
    "\n",
    "search = TavilySearchResults()"
   ],
   "id": "5dcc8027d3ba2a4c",
   "outputs": [],
   "execution_count": 35
  },
  {
   "metadata": {
    "ExecuteTime": {
     "end_time": "2025-04-08T06:52:38.365653Z",
     "start_time": "2025-04-08T06:52:37.225361Z"
    }
   },
   "cell_type": "code",
   "source": [
    "from langchain import hub\n",
    "\n",
    "tools = [estimate_calories, search]\n",
    "\n",
    "prompt = hub.pull(\"hwchase17/openai-functions-agent\")"
   ],
   "id": "5f4549bf649bfe41",
   "outputs": [],
   "execution_count": 36
  },
  {
   "metadata": {
    "ExecuteTime": {
     "end_time": "2025-04-08T06:52:38.382955Z",
     "start_time": "2025-04-08T06:52:38.373854Z"
    }
   },
   "cell_type": "code",
   "source": [
    "from langchain.agents import create_tool_calling_agent\n",
    "\n",
    "agent = create_tool_calling_agent(llm,tools,prompt)"
   ],
   "id": "509f7194a2053e7",
   "outputs": [],
   "execution_count": 37
  },
  {
   "metadata": {
    "ExecuteTime": {
     "end_time": "2025-04-08T06:52:39.446139Z",
     "start_time": "2025-04-08T06:52:39.442600Z"
    }
   },
   "cell_type": "code",
   "source": [
    "from langchain.agents import AgentExecutor\n",
    "\n",
    "agent_executor = AgentExecutor(agent=agent, tools=tools, verbose=True)"
   ],
   "id": "984b3315d85c2a2d",
   "outputs": [],
   "execution_count": 38
  },
  {
   "metadata": {
    "ExecuteTime": {
     "end_time": "2025-04-08T06:57:26.182743Z",
     "start_time": "2025-04-08T06:57:26.176132Z"
    }
   },
   "cell_type": "code",
   "source": [
    "from langchain_community.chat_message_histories import ChatMessageHistory\n",
    "from langchain_core.runnables import RunnableWithMessageHistory\n",
    "\n",
    "chat_histories = {}\n",
    "\n",
    "def get_session_history(session_id: str) -> ChatMessageHistory:\n",
    "    if session_id not in chat_histories:\n",
    "        chat_histories[session_id] = ChatMessageHistory()\n",
    "    return chat_histories[session_id]\n",
    "\n",
    "agent_with_chat_history = RunnableWithMessageHistory(\n",
    "    agent_executor,\n",
    "    get_session_history,\n",
    "    input_messages_key=\"input\",\n",
    "    history_key=\"chat_history\",\n",
    ")"
   ],
   "id": "ae33fddf6cd1b586",
   "outputs": [],
   "execution_count": 49
  },
  {
   "metadata": {
    "ExecuteTime": {
     "end_time": "2025-04-08T06:57:46.039979Z",
     "start_time": "2025-04-08T06:57:38.527412Z"
    }
   },
   "cell_type": "code",
   "source": [
    "agent_with_chat_history.invoke({\"input\":\"So I wanted to start going to the gym, what is the best exercise for me to do on chest day?\"},\n",
    "                               config={\"configurable\": {\"session_id\": \"user_a\"}})"
   ],
   "id": "429b561698496a44",
   "outputs": [
    {
     "name": "stdout",
     "output_type": "stream",
     "text": [
      "\n",
      "\n",
      "\u001B[1m> Entering new AgentExecutor chain...\u001B[0m\n",
      "\u001B[32;1m\u001B[1;3m\n",
      "Invoking: `tavily_search_results_json` with `{'query': 'best chest exercises for beginners'}`\n",
      "\n",
      "\n",
      "\u001B[0m\u001B[33;1m\u001B[1;3m[{'title': 'Chest Workout for Beginners: 10 Easy Exercises to Try (2025)', 'url': 'https://www.mensjournal.com/health-fitness/10-best-chest-exercises-beginners', 'content': 'Best Chest Exercises for Beginners · 1. Pushup · 2. Barbell Bench Press · 3. Medicine Ball Chest Throw · 4. Dumbbell Bench Press.', 'score': 0.9055316}, {'title': 'Beginner Chest Workouts | The Best Exercises For Your Upper And ...', 'url': 'https://us.myprotein.com/thezone/training/beginners-chest-workout-exercises-building-bigger-pecs/', 'content': \"The chest muscles are activated through two directional movements â\\x80\\x94 pushing and pulling. Both movements are important for a well-developed chest, but beginners should focus mainly on pushing movements. Thatâ\\x80\\x99s because pushing allows for a far greater load to be used, and lifting heavier will enable you to develop a greater amount of muscle mass.\\n\\n\\n\\n1. The bench press [...] No beginner chest workout would be complete without the bench press. The bench press is arguably the most popular exercise in the gym for chest development. The bench press heavily involves the large muscle groups of the chest, the shoulders, as well as the triceps. You can do the bench press either with more or fewer repetitions, as well as with heavy or light loads.\\n\\nÂ\\n\\nHow to do the bench press â\\x80\\x93 beginner tutorial\\n\\nhttps://youtu.be/d0eLSy44ov4 [...] Another handy alternative and this time it takes the dumbbellÂ\\xa0flyesÂ\\xa0place. Additional support as a fixed machine and can help perfect the technique of the movement before jumping onto the dumbbells.Â\\n\\nÂ\\xa010. Close Grip Bench Press:Â\\n\\nTake home message\\n\\nWe've looked at some of the best exercises to get a bigger, more well-developed chest. As a beginner, it is a good idea to have a spotter close by in case you require any help.\", 'score': 0.86358756}, {'title': 'The 5 Best Chest Exercises That Should Be In Every Chest Workout', 'url': 'https://www.gymshark.com/blog/article/best-chest-exercises', 'content': 'By moving the bench to an incline, you’ll still target the pectoralis major but with an increased emphasis on the clavicular head (upper part of the chest), making this a great upper chest exercise. The section of the chest can sometimes lack growth in comparison to the rest, especially among beginners in strength training, so incorporating exercises that emphasize this part of the chest will help develop a well-rounded chest. [...] Don’t be fooled: this may be a bodyweight movement, but this lower chest exercise requires a ton of strength and stability to carry out. If you’re a beginner, you’ll likely want to try this exercise on the assisted dip machine first or grab a resistance band to assist you. Alternatively, if you’ve already nailed the bodyweight dip, grab a weight belt and attach a plate, or place a dumbbell between your legs. This is a great way to increase the intensity of the exercise and skyrocket your [...] Tip: Grasp the bar slightly wider than shoulder width. Your elbow, forearm, and wrist should all be in line at the bottom of the movement.\\n\\nWhether you’re a beginner looking to master the bench press or an advanced lifter looking to take your pressing to the next level, check out our top 5 tips to improve your bench press.\\n\\n2. Incline Dumbbell Bench Press\\n\\nMain Target: Upper Chest', 'score': 0.7971311}, {'title': 'The best chest workout for beginners - Muscle & Fitness', 'url': 'https://www.muscleandfitness.com/routine/workouts/workout-routines/best-chest-workout-beginners/', 'content': 'Shock your muscles with these 10 supersizing chest exercises to develop the best pecs in the gym, and/or start rotating through these 10 chest day workouts.', 'score': 0.75723875}, {'title': 'A Beginner Chest Workout to Strengthen Your Upper Body | SELF', 'url': 'https://www.self.com/gallery/a-beginner-chest-workout-to-strengthen-your-upper-body', 'content': 'This beginner chest workout uses dumbbells to strengthen your pecs and other upper-body pushing muscles, like your shoulders and triceps.', 'score': 0.7520312}]\u001B[0m\u001B[32;1m\u001B[1;3mOkay, based on the search results, here are some good chest exercises for beginners:\n",
      "\n",
      "1.  **Push-ups:** A classic bodyweight exercise that's great for building chest strength.\n",
      "2.  **Barbell Bench Press:** A popular and effective exercise for overall chest development.\n",
      "3.  **Dumbbell Bench Press:** Another great option that allows for a greater range of motion.\n",
      "\n",
      "It's recommended to focus on pushing movements as a beginner, as they allow you to lift heavier and develop more muscle mass.\n",
      "\u001B[0m\n",
      "\n",
      "\u001B[1m> Finished chain.\u001B[0m\n"
     ]
    },
    {
     "data": {
      "text/plain": [
       "{'input': [HumanMessage(content='So I wanted to start going to the gym, what is the best exercise for me to do on chest day?', additional_kwargs={}, response_metadata={})],\n",
       " 'output': \"Okay, based on the search results, here are some good chest exercises for beginners:\\n\\n1.  **Push-ups:** A classic bodyweight exercise that's great for building chest strength.\\n2.  **Barbell Bench Press:** A popular and effective exercise for overall chest development.\\n3.  **Dumbbell Bench Press:** Another great option that allows for a greater range of motion.\\n\\nIt's recommended to focus on pushing movements as a beginner, as they allow you to lift heavier and develop more muscle mass.\\n\"}"
      ]
     },
     "execution_count": 50,
     "metadata": {},
     "output_type": "execute_result"
    }
   ],
   "execution_count": 50
  },
  {
   "metadata": {
    "ExecuteTime": {
     "end_time": "2025-04-08T06:52:46.086386Z",
     "start_time": "2025-04-08T06:52:44.948013Z"
    }
   },
   "cell_type": "code",
   "source": "agent_with_chat_history.invoke({\"input\":\"Cool, so which one of these can you calculate the calories for?\"})",
   "id": "db696706de42428f",
   "outputs": [
    {
     "name": "stdout",
     "output_type": "stream",
     "text": [
      "\n",
      "\n",
      "\u001B[1m> Entering new AgentExecutor chain...\u001B[0m\n",
      "\u001B[32;1m\u001B[1;3mI can calculate the calories for Push Ups, Bench Press, and Dumbbell Flyes.\n",
      "\u001B[0m\n",
      "\n",
      "\u001B[1m> Finished chain.\u001B[0m\n"
     ]
    },
    {
     "data": {
      "text/plain": [
       "{'input': 'Cool, so which one of these can you calculate the calories for?',\n",
       " 'output': 'I can calculate the calories for Push Ups, Bench Press, and Dumbbell Flyes.\\n'}"
      ]
     },
     "execution_count": 40,
     "metadata": {},
     "output_type": "execute_result"
    }
   ],
   "execution_count": 40
  },
  {
   "metadata": {
    "ExecuteTime": {
     "end_time": "2025-04-08T06:54:10.625565Z",
     "start_time": "2025-04-08T06:54:06.786063Z"
    }
   },
   "cell_type": "code",
   "source": "agent_with_chat_history.invoke({\"input\":\"Cool, i am 75kg and i would bench press for 6 minutes, calculate the calories for that, also for the same metrics calculate the calories if i were to do push ups and compare the calories for me\"})",
   "id": "3d067205f118e52b",
   "outputs": [
    {
     "name": "stdout",
     "output_type": "stream",
     "text": [
      "\n",
      "\n",
      "\u001B[1m> Entering new AgentExecutor chain...\u001B[0m\n",
      "\u001B[32;1m\u001B[1;3m\n",
      "Invoking: `estimate_calories` with `{'duration_min': 6, 'exercise': 'Bench Press', 'weight_kg': 75}`\n",
      "\n",
      "\n",
      "\u001B[0m\u001B[36;1m\u001B[1;3mEstimated 47.2 calories burned doing Bench Press for 6 mins at 75.0kg.\u001B[0m\u001B[32;1m\u001B[1;3m\n",
      "Invoking: `estimate_calories` with `{'duration_min': 6, 'weight_kg': 75, 'exercise': 'Push Ups'}`\n",
      "\n",
      "\n",
      "\u001B[0m\u001B[36;1m\u001B[1;3mEstimated 29.9 calories burned doing Push Ups for 6 mins at 75.0kg.\u001B[0m\u001B[32;1m\u001B[1;3mOkay, so you would burn approximately 47.2 calories doing Bench Press for 6 minutes at 75kg. Alternatively, you would burn approximately 29.9 calories doing Push Ups for 6 minutes at 75kg. Therefore, you would burn more calories doing bench press.\n",
      "\u001B[0m\n",
      "\n",
      "\u001B[1m> Finished chain.\u001B[0m\n"
     ]
    },
    {
     "data": {
      "text/plain": [
       "{'input': 'Cool, i am 75kg and i would bench press for 6 minutes, calculate the calories for that, also for the same metrics calculate the calories if i were to do push ups and compare the calories for me',\n",
       " 'output': 'Okay, so you would burn approximately 47.2 calories doing Bench Press for 6 minutes at 75kg. Alternatively, you would burn approximately 29.9 calories doing Push Ups for 6 minutes at 75kg. Therefore, you would burn more calories doing bench press.\\n'}"
      ]
     },
     "execution_count": 42,
     "metadata": {},
     "output_type": "execute_result"
    }
   ],
   "execution_count": 42
  },
  {
   "metadata": {
    "ExecuteTime": {
     "end_time": "2025-04-08T06:58:48.556771Z",
     "start_time": "2025-04-08T06:58:44.673276Z"
    }
   },
   "cell_type": "code",
   "source": [
    "agent_with_chat_history.invoke({\"input\":\"Hi, I am Youssef\"},\n",
    "                               config={\"configurable\": {\"session_id\": \"user_a\"}})\n",
    "\n",
    "agent_with_chat_history.invoke({\"input\":\"Hi, I am Ahmed\"},\n",
    "                               config={\"configurable\": {\"session_id\": \"user_b\"}})\n",
    "\n",
    "agent_with_chat_history.invoke({\"input\":\"What is my Name?\"},\n",
    "                               config={\"configurable\": {\"session_id\": \"user_a\"}})\n",
    "\n",
    "agent_with_chat_history.invoke({\"input\":\"What is my Name?\"},\n",
    "                               config={\"configurable\": {\"session_id\": \"user_b\"}})"
   ],
   "id": "9565536a054b59a9",
   "outputs": [
    {
     "name": "stdout",
     "output_type": "stream",
     "text": [
      "\n",
      "\n",
      "\u001B[1m> Entering new AgentExecutor chain...\u001B[0m\n",
      "\u001B[32;1m\u001B[1;3mHi Youssef, nice to meet you. How can I help you today?\n",
      "\u001B[0m\n",
      "\n",
      "\u001B[1m> Finished chain.\u001B[0m\n",
      "\n",
      "\n",
      "\u001B[1m> Entering new AgentExecutor chain...\u001B[0m\n",
      "\u001B[32;1m\u001B[1;3mHello Ahmed, how can I help you today?\n",
      "\u001B[0m\n",
      "\n",
      "\u001B[1m> Finished chain.\u001B[0m\n",
      "\n",
      "\n",
      "\u001B[1m> Entering new AgentExecutor chain...\u001B[0m\n",
      "\u001B[32;1m\u001B[1;3mYour name is Youssef.\n",
      "\u001B[0m\n",
      "\n",
      "\u001B[1m> Finished chain.\u001B[0m\n",
      "\n",
      "\n",
      "\u001B[1m> Entering new AgentExecutor chain...\u001B[0m\n",
      "\u001B[32;1m\u001B[1;3mYour name is Ahmed.\n",
      "\u001B[0m\n",
      "\n",
      "\u001B[1m> Finished chain.\u001B[0m\n"
     ]
    },
    {
     "data": {
      "text/plain": [
       "{'input': [HumanMessage(content='Hi, I am Ahmed', additional_kwargs={}, response_metadata={}),\n",
       "  AIMessage(content='Hello Ahmed, how can I help you today?\\n', additional_kwargs={}, response_metadata={}),\n",
       "  HumanMessage(content='What is my Name?', additional_kwargs={}, response_metadata={})],\n",
       " 'output': 'Your name is Ahmed.\\n'}"
      ]
     },
     "execution_count": 51,
     "metadata": {},
     "output_type": "execute_result"
    }
   ],
   "execution_count": 51
  },
  {
   "metadata": {},
   "cell_type": "code",
   "outputs": [],
   "execution_count": null,
   "source": "",
   "id": "d19f154822cd3c4e"
  }
 ],
 "metadata": {
  "kernelspec": {
   "display_name": "Python 3",
   "language": "python",
   "name": "python3"
  },
  "language_info": {
   "codemirror_mode": {
    "name": "ipython",
    "version": 2
   },
   "file_extension": ".py",
   "mimetype": "text/x-python",
   "name": "python",
   "nbconvert_exporter": "python",
   "pygments_lexer": "ipython2",
   "version": "2.7.6"
  }
 },
 "nbformat": 4,
 "nbformat_minor": 5
}
