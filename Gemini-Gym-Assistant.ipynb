{
 "cells": [
  {
   "cell_type": "code",
   "id": "initial_id",
   "metadata": {
    "collapsed": true,
    "ExecuteTime": {
     "end_time": "2025-04-08T07:06:57.314150Z",
     "start_time": "2025-04-08T07:06:57.221379Z"
    }
   },
   "source": [
    "from langchain_openai import ChatOpenAI\n",
    "from langchain_ollama import ChatOllama\n",
    "import os\n",
    "from dotenv import load_dotenv\n",
    "\n",
    "load_dotenv()\n",
    "\n",
    "# llm = ChatOpenAI(\n",
    "#     model=\"google/gemini-2.0-flash-001\",\n",
    "#     api_key=os.getenv(\"OPENAI_API_KEY\"),\n",
    "#     base_url=os.getenv(\"OPENAI_API_BASE\"),\n",
    "#     temperature=0.2,\n",
    "# )\n",
    "\n",
    "llm = ChatOllama(model=\"llama3.2\")"
   ],
   "outputs": [],
   "execution_count": 60
  },
  {
   "metadata": {
    "ExecuteTime": {
     "end_time": "2025-04-08T07:06:58.291813Z",
     "start_time": "2025-04-08T07:06:58.286485Z"
    }
   },
   "cell_type": "code",
   "source": [
    "from langchain.tools import tool\n",
    "\n",
    "@tool\n",
    "def estimate_calories(exercise: str, duration_min: int, weight_kg: float) -> str:\n",
    "    \"\"\"This function is used to calculate calories for an exercise. Input the Exercise as string and the duration and the person weight to calculate.\n",
    "    Currently only supports -> Push Ups, Bench Press and Dumbbell Flyes\"\"\"\n",
    "    met_values = {\n",
    "        \"push ups\": 3.8,\n",
    "        \"bench press\": 6.0,\n",
    "        \"dumbbell flyes\": 4.0,\n",
    "    }\n",
    "    met = met_values.get(exercise.lower(), 4.0)\n",
    "    calories = (met * 3.5 * weight_kg / 200) * duration_min\n",
    "    return f\"Estimated {calories:.1f} calories burned doing {exercise} for {duration_min} mins at {weight_kg}kg.\"\n"
   ],
   "id": "3184be5142b505be",
   "outputs": [],
   "execution_count": 61
  },
  {
   "metadata": {
    "ExecuteTime": {
     "end_time": "2025-04-08T07:06:58.794974Z",
     "start_time": "2025-04-08T07:06:58.792178Z"
    }
   },
   "cell_type": "code",
   "source": [
    "from langchain_community.tools.tavily_search import TavilySearchResults\n",
    "\n",
    "search = TavilySearchResults()"
   ],
   "id": "5dcc8027d3ba2a4c",
   "outputs": [],
   "execution_count": 62
  },
  {
   "metadata": {
    "ExecuteTime": {
     "end_time": "2025-04-08T07:06:59.952555Z",
     "start_time": "2025-04-08T07:06:59.284566Z"
    }
   },
   "cell_type": "code",
   "source": [
    "from langchain import hub\n",
    "\n",
    "tools = [estimate_calories, search]\n",
    "\n",
    "prompt = hub.pull(\"hwchase17/openai-functions-agent\")"
   ],
   "id": "5f4549bf649bfe41",
   "outputs": [],
   "execution_count": 63
  },
  {
   "metadata": {
    "ExecuteTime": {
     "end_time": "2025-04-08T07:06:59.965619Z",
     "start_time": "2025-04-08T07:06:59.957450Z"
    }
   },
   "cell_type": "code",
   "source": [
    "from langchain.agents import create_tool_calling_agent\n",
    "\n",
    "agent = create_tool_calling_agent(llm,tools,prompt)"
   ],
   "id": "509f7194a2053e7",
   "outputs": [],
   "execution_count": 64
  },
  {
   "metadata": {
    "ExecuteTime": {
     "end_time": "2025-04-08T07:07:00.807876Z",
     "start_time": "2025-04-08T07:07:00.805074Z"
    }
   },
   "cell_type": "code",
   "source": [
    "from langchain.agents import AgentExecutor\n",
    "\n",
    "agent_executor = AgentExecutor(agent=agent, tools=tools, verbose=True)"
   ],
   "id": "984b3315d85c2a2d",
   "outputs": [],
   "execution_count": 65
  },
  {
   "metadata": {
    "ExecuteTime": {
     "end_time": "2025-04-08T07:07:01.346278Z",
     "start_time": "2025-04-08T07:07:01.342566Z"
    }
   },
   "cell_type": "code",
   "source": [
    "from langchain_community.chat_message_histories import ChatMessageHistory\n",
    "from langchain_core.runnables import RunnableWithMessageHistory\n",
    "\n",
    "chat_histories = {}\n",
    "\n",
    "def get_session_history(session_id: str) -> ChatMessageHistory:\n",
    "    if session_id not in chat_histories:\n",
    "        chat_histories[session_id] = ChatMessageHistory()\n",
    "    return chat_histories[session_id]\n",
    "\n",
    "agent_with_chat_history = RunnableWithMessageHistory(\n",
    "    agent_executor,\n",
    "    get_session_history,\n",
    "    input_messages_key=\"input\",\n",
    "    history_key=\"chat_history\",\n",
    ")"
   ],
   "id": "ae33fddf6cd1b586",
   "outputs": [],
   "execution_count": 66
  },
  {
   "metadata": {
    "ExecuteTime": {
     "end_time": "2025-04-08T07:07:16.712566Z",
     "start_time": "2025-04-08T07:07:02.468237Z"
    }
   },
   "cell_type": "code",
   "source": [
    "agent_with_chat_history.invoke({\"input\":\"So I wanted to start going to the gym, what is the best exercise for me to do on chest day?\"},\n",
    "                               config={\"configurable\": {\"session_id\": \"user_a\"}})"
   ],
   "id": "429b561698496a44",
   "outputs": [
    {
     "name": "stdout",
     "output_type": "stream",
     "text": [
      "\n",
      "\n",
      "\u001B[1m> Entering new AgentExecutor chain...\u001B[0m\n",
      "\u001B[32;1m\u001B[1;3m\n",
      "Invoking: `tavily_search_results_json` with `{'query': 'best exercise for chest day at the gym'}`\n",
      "\n",
      "\n",
      "\u001B[0m\u001B[33;1m\u001B[1;3m[{'title': '10 Best Chest Exercises for Building Muscle - Bodybuilding.com', 'url': 'https://shop.bodybuilding.com/blogs/training/10-best-chest-exercises-for-building-muscle?srsltid=AfmBOopxtk7-UyKw9DjYAr6Q3ud2KCrgHR6gcxWXrZnZtMnTbKoCMXYz', 'content': \"In your workout: If you can do them for high reps, dips make a great finisher to a pro-level chest day. If you can't, you can do them earlier in your session in traditional strength- or muscle-building rep ranges, such as 6-8 or 8-10 reps. Dips also make a great superset pairing with push-ups for a big pump at the end of your workout.\\n\\nChest Fly [...] All types of dips hit the chest heavily, but on chest day, it's worth making sure you're doing dips that emphasize the pecs. Put your feet up behind you, lean forward as far as possible, and allow your elbows to flare out slightly as you dip.\\n\\n\\n\\nDip Variations for Chest Growth: [...] Why it's on the list: Pull-overs have been a favorite torso builder of bodybuilders for decades. Dating back to the 1940s and earlier, lifters alternated them with 20-rep squats in workouts designed to expand the ribcage. The logic behind this approach may not stand up today, but the move is still worth including on a modern chest day.\", 'score': 0.83678174}, {'title': \"The 20 Best Chest Exercises to Build Stronger Pecs - Men's Health\", 'url': 'https://www.menshealth.com/fitness/a19547186/best-chest-exercises/', 'content': \"Why: Target your lower chest and get some extra oblique work with this exercise that you can take on even if you don't have access to a cable machine. This fly variation is just as effective using a resistance band anchored to a rack or some other sturdy point as it is with a cable machine. Use this as a chest day finishing move.\\n\\nHow to Do It:\\n\\nSets and reps: 3 sets of 8 to 10 reps per side\\n\\nPlyometric Pushup [...] Still, some exercisers approach chest training with a very narrow approach. The International Chest Day model, which consists of barbell bench press and little else, doesn't give you a chance for a fully diversified chest workout. There should be much more to your chest muscle workouts than stacking plates onto a barbell and pressing into infinity—that can be a recipe for major problems down the line. [...] How to Do It:\\n\\nSets and reps: 3 sets of 8 to 10 reps per side\\n\\nBear Plank Chest Press\\n\\nWhy: This pressing variation flips your chest day upside down, challenging your stability and torching your core. You'll need a cable machine or a pair of resistance bands set on high anchor points.\\n\\nHow to Do It:\\n\\nSets and Reps: 3 sets of 8 to 10 reps per side\\n\\nWhat Are Your Chest Muscles?\", 'score': 0.8021998}, {'title': '10 Effective Chest Exercises for Strength | EōS Fitness', 'url': 'https://www.eosfitness.com/blog/10-effective-chest-exercises-for-strength', 'content': 'Now that you have all the exercises, it’s time to start chest day! Below, we’ve outlined a workout to challenge your upper body, mainly focused on your chest muscles. We’ll start with a warm-up to get your heart rate elevated and muscles ready, followed by a workout that targets every angle of your chest and wrap up with a cool-down to aid in recovery and muscle relaxation.\\n\\nWarm-Up (10 minutes)\\n\\nChest Workout\\n\\nCool-Down (10 minutes)\\n\\n\\n\\nElevate Your Chest Game with EōS Fitness [...] To Perform Chest Dips: On parallel bars, lower your body with a slight forward lean, then push back up to the starting position.\\n\\n\\n\\nYour Next Chest Day Workout Routine [...] Elevate your chest workout with these ten effective exercises to help you boost your chest strength.\\n\\n1. Bench Press\\n\\nThe bench press is a cornerstone exercise for increasing upper body strength, mainly aimed at your middle chest. But that’s not all—it also gets your shoulders and triceps in on the action, leading to a more balanced upper body. Slide the bench press into your chest regimen as a compound move, allowing you to lift heavier weights to build strength and muscle mass.', 'score': 0.79080546}, {'title': 'Chest Workouts - Best Exercises for Muscle and Strength - Athlean-X', 'url': 'https://athleanx.com/articles/chest-workouts?srsltid=AfmBOoo9l_0EVeb_Ahw2koRwNseEWjjbWddxMKikc824hwY5D9otytBU', 'content': 'If you have access to a complete gym including a cable machine, the Jackhammer Pushdown and the Standing Cable LC Press are excellent exercises for lower chest.', 'score': 0.7732339}, {'title': 'The PERFECT Science Based Chest Workout (2025 EDITION)', 'url': 'https://www.youtube.com/watch?v=zD266B2jk0s', 'content': 'If you look at the four main exercises that people do in their chest workouts, you will see incline bench press, barbell bench press (don’t on a flat bench), dips and the standard pushup. Take a close look into each of these upper body movements and you will see one thing in common; they hit the primary muscles but lack full shoulder adduction within the exercise. Today, we’re going to change that.', 'score': 0.74385756}]\u001B[0m\u001B[32;1m\u001B[1;3mBased on the search results, the best exercises for a chest day at the gym are:\n",
      "\n",
      "1. Bench Press: A compound exercise that targets the middle chest, shoulders, and triceps.\n",
      "2. Dips: Can be done with or without weights and target the lower chest and can also be used as a finisher to a pro-level chest day.\n",
      "3. Pull-overs: Targets the upper chest and can be an effective variation for building strength and muscle mass.\n",
      "4. Flys (with or without weights): A great exercise for targeting the lower chest and can also be used as a finishing move for a chest day workout.\n",
      "5. Bear Plank Chest Press: Challenges stability and torches the core, making it an effective exercise for building overall upper body strength.\n",
      "\n",
      "It's also recommended to incorporate other exercises such as push-ups, incline bench press, and standing cable LC Press to target different parts of the chest muscle.\n",
      "\n",
      "It's worth noting that the best exercise for you will depend on your individual needs and goals. If you're a beginner, it may be more effective to start with compound exercises like bench press and dips, and then add in other exercises as you progress.\u001B[0m\n",
      "\n",
      "\u001B[1m> Finished chain.\u001B[0m\n"
     ]
    },
    {
     "data": {
      "text/plain": [
       "{'input': [HumanMessage(content='So I wanted to start going to the gym, what is the best exercise for me to do on chest day?', additional_kwargs={}, response_metadata={})],\n",
       " 'output': \"Based on the search results, the best exercises for a chest day at the gym are:\\n\\n1. Bench Press: A compound exercise that targets the middle chest, shoulders, and triceps.\\n2. Dips: Can be done with or without weights and target the lower chest and can also be used as a finisher to a pro-level chest day.\\n3. Pull-overs: Targets the upper chest and can be an effective variation for building strength and muscle mass.\\n4. Flys (with or without weights): A great exercise for targeting the lower chest and can also be used as a finishing move for a chest day workout.\\n5. Bear Plank Chest Press: Challenges stability and torches the core, making it an effective exercise for building overall upper body strength.\\n\\nIt's also recommended to incorporate other exercises such as push-ups, incline bench press, and standing cable LC Press to target different parts of the chest muscle.\\n\\nIt's worth noting that the best exercise for you will depend on your individual needs and goals. If you're a beginner, it may be more effective to start with compound exercises like bench press and dips, and then add in other exercises as you progress.\"}"
      ]
     },
     "execution_count": 67,
     "metadata": {},
     "output_type": "execute_result"
    }
   ],
   "execution_count": 67
  },
  {
   "metadata": {
    "ExecuteTime": {
     "end_time": "2025-04-08T06:52:46.086386Z",
     "start_time": "2025-04-08T06:52:44.948013Z"
    }
   },
   "cell_type": "code",
   "source": "agent_with_chat_history.invoke({\"input\":\"Cool, so which one of these can you calculate the calories for?\"})",
   "id": "db696706de42428f",
   "outputs": [
    {
     "name": "stdout",
     "output_type": "stream",
     "text": [
      "\n",
      "\n",
      "\u001B[1m> Entering new AgentExecutor chain...\u001B[0m\n",
      "\u001B[32;1m\u001B[1;3mI can calculate the calories for Push Ups, Bench Press, and Dumbbell Flyes.\n",
      "\u001B[0m\n",
      "\n",
      "\u001B[1m> Finished chain.\u001B[0m\n"
     ]
    },
    {
     "data": {
      "text/plain": [
       "{'input': 'Cool, so which one of these can you calculate the calories for?',\n",
       " 'output': 'I can calculate the calories for Push Ups, Bench Press, and Dumbbell Flyes.\\n'}"
      ]
     },
     "execution_count": 40,
     "metadata": {},
     "output_type": "execute_result"
    }
   ],
   "execution_count": 40
  },
  {
   "metadata": {
    "ExecuteTime": {
     "end_time": "2025-04-08T06:54:10.625565Z",
     "start_time": "2025-04-08T06:54:06.786063Z"
    }
   },
   "cell_type": "code",
   "source": "agent_with_chat_history.invoke({\"input\":\"Cool, i am 75kg and i would bench press for 6 minutes, calculate the calories for that, also for the same metrics calculate the calories if i were to do push ups and compare the calories for me\"})",
   "id": "3d067205f118e52b",
   "outputs": [
    {
     "name": "stdout",
     "output_type": "stream",
     "text": [
      "\n",
      "\n",
      "\u001B[1m> Entering new AgentExecutor chain...\u001B[0m\n",
      "\u001B[32;1m\u001B[1;3m\n",
      "Invoking: `estimate_calories` with `{'duration_min': 6, 'exercise': 'Bench Press', 'weight_kg': 75}`\n",
      "\n",
      "\n",
      "\u001B[0m\u001B[36;1m\u001B[1;3mEstimated 47.2 calories burned doing Bench Press for 6 mins at 75.0kg.\u001B[0m\u001B[32;1m\u001B[1;3m\n",
      "Invoking: `estimate_calories` with `{'duration_min': 6, 'weight_kg': 75, 'exercise': 'Push Ups'}`\n",
      "\n",
      "\n",
      "\u001B[0m\u001B[36;1m\u001B[1;3mEstimated 29.9 calories burned doing Push Ups for 6 mins at 75.0kg.\u001B[0m\u001B[32;1m\u001B[1;3mOkay, so you would burn approximately 47.2 calories doing Bench Press for 6 minutes at 75kg. Alternatively, you would burn approximately 29.9 calories doing Push Ups for 6 minutes at 75kg. Therefore, you would burn more calories doing bench press.\n",
      "\u001B[0m\n",
      "\n",
      "\u001B[1m> Finished chain.\u001B[0m\n"
     ]
    },
    {
     "data": {
      "text/plain": [
       "{'input': 'Cool, i am 75kg and i would bench press for 6 minutes, calculate the calories for that, also for the same metrics calculate the calories if i were to do push ups and compare the calories for me',\n",
       " 'output': 'Okay, so you would burn approximately 47.2 calories doing Bench Press for 6 minutes at 75kg. Alternatively, you would burn approximately 29.9 calories doing Push Ups for 6 minutes at 75kg. Therefore, you would burn more calories doing bench press.\\n'}"
      ]
     },
     "execution_count": 42,
     "metadata": {},
     "output_type": "execute_result"
    }
   ],
   "execution_count": 42
  },
  {
   "metadata": {
    "ExecuteTime": {
     "end_time": "2025-04-08T06:58:48.556771Z",
     "start_time": "2025-04-08T06:58:44.673276Z"
    }
   },
   "cell_type": "code",
   "source": [
    "agent_with_chat_history.invoke({\"input\":\"Hi, I am Youssef\"},\n",
    "                               config={\"configurable\": {\"session_id\": \"user_a\"}})\n",
    "\n",
    "agent_with_chat_history.invoke({\"input\":\"Hi, I am Ahmed\"},\n",
    "                               config={\"configurable\": {\"session_id\": \"user_b\"}})\n",
    "\n",
    "agent_with_chat_history.invoke({\"input\":\"What is my Name?\"},\n",
    "                               config={\"configurable\": {\"session_id\": \"user_a\"}})\n",
    "\n",
    "agent_with_chat_history.invoke({\"input\":\"What is my Name?\"},\n",
    "                               config={\"configurable\": {\"session_id\": \"user_b\"}})"
   ],
   "id": "9565536a054b59a9",
   "outputs": [
    {
     "name": "stdout",
     "output_type": "stream",
     "text": [
      "\n",
      "\n",
      "\u001B[1m> Entering new AgentExecutor chain...\u001B[0m\n",
      "\u001B[32;1m\u001B[1;3mHi Youssef, nice to meet you. How can I help you today?\n",
      "\u001B[0m\n",
      "\n",
      "\u001B[1m> Finished chain.\u001B[0m\n",
      "\n",
      "\n",
      "\u001B[1m> Entering new AgentExecutor chain...\u001B[0m\n",
      "\u001B[32;1m\u001B[1;3mHello Ahmed, how can I help you today?\n",
      "\u001B[0m\n",
      "\n",
      "\u001B[1m> Finished chain.\u001B[0m\n",
      "\n",
      "\n",
      "\u001B[1m> Entering new AgentExecutor chain...\u001B[0m\n",
      "\u001B[32;1m\u001B[1;3mYour name is Youssef.\n",
      "\u001B[0m\n",
      "\n",
      "\u001B[1m> Finished chain.\u001B[0m\n",
      "\n",
      "\n",
      "\u001B[1m> Entering new AgentExecutor chain...\u001B[0m\n",
      "\u001B[32;1m\u001B[1;3mYour name is Ahmed.\n",
      "\u001B[0m\n",
      "\n",
      "\u001B[1m> Finished chain.\u001B[0m\n"
     ]
    },
    {
     "data": {
      "text/plain": [
       "{'input': [HumanMessage(content='Hi, I am Ahmed', additional_kwargs={}, response_metadata={}),\n",
       "  AIMessage(content='Hello Ahmed, how can I help you today?\\n', additional_kwargs={}, response_metadata={}),\n",
       "  HumanMessage(content='What is my Name?', additional_kwargs={}, response_metadata={})],\n",
       " 'output': 'Your name is Ahmed.\\n'}"
      ]
     },
     "execution_count": 51,
     "metadata": {},
     "output_type": "execute_result"
    }
   ],
   "execution_count": 51
  },
  {
   "metadata": {},
   "cell_type": "code",
   "outputs": [],
   "execution_count": null,
   "source": "",
   "id": "d19f154822cd3c4e"
  }
 ],
 "metadata": {
  "kernelspec": {
   "display_name": "Python 3",
   "language": "python",
   "name": "python3"
  },
  "language_info": {
   "codemirror_mode": {
    "name": "ipython",
    "version": 2
   },
   "file_extension": ".py",
   "mimetype": "text/x-python",
   "name": "python",
   "nbconvert_exporter": "python",
   "pygments_lexer": "ipython2",
   "version": "2.7.6"
  }
 },
 "nbformat": 4,
 "nbformat_minor": 5
}
