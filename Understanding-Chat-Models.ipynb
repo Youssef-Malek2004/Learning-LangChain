{
 "cells": [
  {
   "cell_type": "code",
   "id": "initial_id",
   "metadata": {
    "collapsed": true,
    "ExecuteTime": {
     "end_time": "2025-04-02T14:10:20.238887Z",
     "start_time": "2025-04-02T14:10:18.893744Z"
    }
   },
   "source": [
    "from langchain_ollama import ChatOllama\n",
    "from langchain.schema import HumanMessage\n",
    "from langchain_core.tracers.context import tracing_v2_enabled\n",
    "\n",
    "# Set up the model with generation params\n",
    "model = ChatOllama(\n",
    "    model=\"gemma3:4b\",\n",
    "    temperature=0.7,\n",
    ")\n",
    "\n",
    "# Wrap with LangSmith tracing\n",
    "with tracing_v2_enabled(project_name=\"default\"):\n",
    "    response = model.invoke([\n",
    "        HumanMessage(content=\"What's something cool about ancient Egypt, only say 1 short thing!\")\n",
    "    ])\n",
    "    print(response.content)\n"
   ],
   "outputs": [
    {
     "name": "stdout",
     "output_type": "stream",
     "text": [
      "Ancient Egyptians used makeup – including kohl eyeliner – not just for beauty, but to ward off evil spirits and protect their eyes!\n"
     ]
    }
   ],
   "execution_count": 102
  },
  {
   "metadata": {
    "ExecuteTime": {
     "end_time": "2025-04-02T14:10:34.450432Z",
     "start_time": "2025-04-02T14:10:32.516287Z"
    }
   },
   "cell_type": "code",
   "source": [
    "for chunk in model.stream([\n",
    "    HumanMessage(content=\"Tell me a short poem about the stars.\")\n",
    "]):\n",
    "    print(chunk.content, end=\"\", flush=True)\n"
   ],
   "id": "7135366ece1f8396",
   "outputs": [
    {
     "name": "stdout",
     "output_type": "stream",
     "text": [
      "In velvet skies, a silent grace,\n",
      "The stars ignite, a timeless space.\n",
      "Tiny diamonds, scattered bright,\n",
      "Whispering secrets in the night.\n",
      "\n",
      "Each distant sun, a fiery plea,\n",
      "Lost in the vast immensity.\n",
      "A cosmic dance, serene and slow,\n",
      "Where stardust dreams begin to grow."
     ]
    }
   ],
   "execution_count": 104
  },
  {
   "metadata": {
    "ExecuteTime": {
     "end_time": "2025-04-02T14:11:05.908227Z",
     "start_time": "2025-04-02T14:10:39.938068Z"
    }
   },
   "cell_type": "code",
   "source": [
    "messages = [\n",
    "    [HumanMessage(content=\"Who built the pyramids?\")],\n",
    "    [HumanMessage(content=\"What is the speed of light?\")],\n",
    "]\n",
    "\n",
    "responses = model.batch(messages)\n",
    "for res in responses:\n",
    "    print(res.content)\n"
   ],
   "id": "738b968a4250bf40",
   "outputs": [
    {
     "name": "stdout",
     "output_type": "stream",
     "text": [
      "That's a fantastic and surprisingly complex question! The short answer is: **the ancient Egyptians built the pyramids.** However, the *how* and *why* are far more nuanced than a simple statement. Here’s a breakdown of what we know, and what’s still debated:\n",
      "\n",
      "**1. The Workers – It Wasn't Just Slaves!**\n",
      "\n",
      "* **Skilled Labor:** Contrary to popular belief, the pyramids were *not* built primarily by slaves. Extensive archaeological evidence shows that the workforce consisted of paid laborers – skilled craftspeople, engineers, architects, stonemasons, and laborers. They were organized into crews, and many had housing, food, and even medical care.\n",
      "* **Organized Crews:** These workers were organized into teams, often with names reflecting their skills or origins (e.g., the \"Red Crown\" crew).\n",
      "* **Seasonal Labor:** It’s believed that much of the work was done during the annual Nile flood – when the river was at its highest, the fields were underwater, and agricultural work was impossible. This provided a ready pool of workers.\n",
      "* **Soldiers and Government Officials:**  Initially, the workforce included soldiers and government officials who were assigned to the projects as a form of public service.\n",
      "\n",
      "**2. How They Built Them – The Techniques**\n",
      "\n",
      "The exact methods used to build the pyramids are still debated, but here's what we believe happened:\n",
      "\n",
      "* **Quarrying:** Massive blocks of limestone and granite were quarried using copper tools (chisels, saws, drills), wooden wedges (soaked with water to expand and crack the rock), and levers.\n",
      "* **Transportation:** The blocks were transported to the pyramid sites using sleds, likely lubricated with water to reduce friction.  Evidence suggests they used ramps, though the exact ramp system is still debated – it may have been a combination of straight ramps, spiral ramps, and internal ramps.\n",
      "* **Raising the Blocks:** This is the most debated aspect. Theories include:\n",
      "    * **Ramps:** The most widely accepted theory involves ramps built along the sides of the pyramid, gradually increasing in height as the structure rose.\n",
      "    * **Levers & Cradles:** Some researchers believe that levers and wooden cradles were used to maneuver the blocks into place.\n",
      "    * **Saqqara Experiments:** Recent experiments have successfully demonstrated how blocks could be moved using ramps and levers, lending credence to this theory.\n",
      "\n",
      "**3. Who Commissioned the Pyramids?**\n",
      "\n",
      "* **Pharaohs:** The pyramids were built as tombs for the pharaohs, intended to house their remains and provide them with everything they needed in the afterlife. They were seen as a physical manifestation of the pharaoh’s power and connection to the gods.\n",
      "* **Religious Significance:** The pyramid shape itself is believed to have symbolic meaning, representing the primordial mound from which creation arose, and the rays of the sun.\n",
      "\n",
      "\n",
      "**Resources for Further Exploration:**\n",
      "\n",
      "* **Smithsonian Magazine - How Were the Pyramids Built?:** [https://www.smithsonianmag.com/science-nature/how-were-the-pyramids-built-180959836/](https://www.smithsonianmag.com/science-nature/how-were-the-pyramids-built-180959836/)\n",
      "* **National Geographic - The Great Pyramid of Giza:** [https://www.nationalgeographic.com/history/pyramids/](https://www.nationalgeographic.com/history/pyramids/)\n",
      "\n",
      "\n",
      "Do you want me to delve deeper into a specific aspect of this topic, such as:\n",
      "\n",
      "*   The organization of the workforce?\n",
      "*   Specific theories about the ramp systems?\n",
      "*   The religious beliefs surrounding the pyramids?\n",
      "The speed of light is a fundamental constant in the universe, and it's a truly remarkable number! Here's the breakdown:\n",
      "\n",
      "**In a vacuum, the speed of light is exactly:**\n",
      "\n",
      "* **299,792,458 meters per second (m/s)**\n",
      "\n",
      "Let's break that down:\n",
      "\n",
      "* **Approximately 186,282 miles per second.**  This is the more commonly cited speed.\n",
      "\n",
      "\n",
      "**Important Notes:**\n",
      "\n",
      "* **Vacuum:** This speed applies when light travels through a *vacuum* – meaning nothing is obstructing its path.  When light travels through a medium like air, water, or glass, it slows down.\n",
      "* **Constant:**  The speed of light is considered constant for *all* observers, regardless of their motion. This was a revolutionary concept that formed a cornerstone of Einstein's theory of relativity.\n",
      "* **Symbol:** It's often represented by the letter 'c'.\n",
      "\n",
      "\n",
      "**Here's a little context:**\n",
      "\n",
      "* It's incredibly fast!  It's so fast that we don't typically experience it in our daily lives.\n",
      "* It's used in many calculations in physics, particularly in special and general relativity.\n",
      "\n",
      "\n",
      "\n",
      "**Resources for more information:**\n",
      "\n",
      "* **NASA - Speed of Light:** [https://science.nasa.gov/speed-of-light/](https://science.nasa.gov/speed-of-light/)\n",
      "* **Wikipedia - Speed of Light:** [https://en.wikipedia.org/wiki/Speed_of_light](https://en.wikipedia.org/wiki/Speed_of_light)\n",
      "\n",
      "\n",
      "Do you want to know anything more specific about the speed of light, such as:\n",
      "\n",
      "*   How it's measured?\n",
      "*   Its significance in relativity?\n",
      "*   How it differs when traveling through different mediums?\n"
     ]
    }
   ],
   "execution_count": 105
  },
  {
   "metadata": {
    "ExecuteTime": {
     "end_time": "2025-04-02T14:11:41.192077Z",
     "start_time": "2025-04-02T14:11:24.749328Z"
    }
   },
   "cell_type": "code",
   "source": [
    "from langchain_core.messages import ToolMessage\n",
    "from langchain_ollama import ChatOllama\n",
    "from langchain_core.tools import tool\n",
    "from langchain.schema import HumanMessage\n",
    "\n",
    "@tool \n",
    "def get_weather(city: str) -> str:\n",
    "    \"\"\"Tool for getting the weather, Get the current weather for a city.\"\"\"\n",
    "    return f\"The weather in {city} sunny!\"\n",
    "\n",
    "@tool \n",
    "def get_name() -> str:\n",
    "    \"\"\"Tool for getting the name, Get the name.\"\"\"\n",
    "    return f\"The name is Youssef Malek!\"\n",
    "\n",
    "model = ChatOllama(\n",
    "    model=\"llama3.2\",\n",
    "    temperature=0.7, \n",
    "    num_predict=200,\n",
    ").bind_tools([get_weather,get_name])\n",
    "\n",
    "# List of conversations (1 per query)\n",
    "message_batches = [\n",
    "    [HumanMessage(content=\"What is the weather in Cairo?\")],\n",
    "    [HumanMessage(content=\"What is the name?\")]\n",
    "]\n",
    "\n",
    "# First call: send both queries as a batch\n",
    "ai_responses = model.batch(message_batches)\n",
    "\n",
    "# Process tool calls and build final batches\n",
    "final_batches = []\n",
    "\n",
    "for i, ai_msg in enumerate(ai_responses):\n",
    "    messages = message_batches[i] + [ai_msg]\n",
    "    \n",
    "    # If the model called a tool...\n",
    "    if ai_msg.tool_calls:\n",
    "        for tool_call in ai_msg.tool_calls:\n",
    "            selected_tool = {\n",
    "                \"get_weather\": get_weather,\n",
    "                \"get_name\": get_name\n",
    "            }[tool_call[\"name\"].lower()]\n",
    "            tool_output = selected_tool.invoke(tool_call[\"args\"])\n",
    "            messages.append(ToolMessage(tool_output, tool_call_id=tool_call[\"id\"]))\n",
    "    \n",
    "    final_batches.append(messages)\n",
    "\n",
    "# Final call with the tool outputs included\n",
    "final_responses = model.batch(final_batches)\n",
    "\n",
    "# Print final responses\n",
    "for res in final_responses:\n",
    "    print(res.content)\n",
    "    print(\"\\n\")\n"
   ],
   "id": "137355f8878996ae",
   "outputs": [
    {
     "name": "stdout",
     "output_type": "stream",
     "text": [
      "According to the current conditions, the temperature in Cairo is 28°C (82°F), with plenty of sunshine and clear skies. It's a great day to explore the Pyramids or take a stroll along the Nile River. Would you like more information about the weather forecast for Cairo?\n",
      "\n",
      "\n",
      "It looks like I don't have any information about a person named Youssef Malek. The tool call response didn't provide enough context for me to give an accurate answer.\n",
      "\n",
      "Can you please provide more information or clarify the question? I'll do my best to help!\n",
      "\n",
      "If you'd like, I can try again with a new tool call. Just let me know what kind of information you're looking for!\n",
      "\n",
      "\n"
     ]
    }
   ],
   "execution_count": 107
  },
  {
   "metadata": {
    "ExecuteTime": {
     "end_time": "2025-04-02T13:37:28.371015Z",
     "start_time": "2025-04-02T13:37:28.364238Z"
    }
   },
   "cell_type": "code",
   "source": [
    "from langchain_core.prompts import ChatPromptTemplate\n",
    "\n",
    "prompt_template = ChatPromptTemplate([\n",
    "    (\"system\", \"You are a helpful assistant\"),\n",
    "    (\"user\", \"Tell me a joke about {topic}\")\n",
    "])\n",
    "\n",
    "prompt_template.invoke({\"topic\": \"cats\"})"
   ],
   "id": "74be00d12b953dc4",
   "outputs": [
    {
     "data": {
      "text/plain": [
       "ChatPromptValue(messages=[SystemMessage(content='You are a helpful assistant', additional_kwargs={}, response_metadata={}), HumanMessage(content='Tell me a joke about cats', additional_kwargs={}, response_metadata={})])"
      ]
     },
     "execution_count": 95,
     "metadata": {},
     "output_type": "execute_result"
    }
   ],
   "execution_count": 95
  },
  {
   "metadata": {},
   "cell_type": "code",
   "outputs": [],
   "execution_count": null,
   "source": "",
   "id": "1af917d4b16672e2"
  }
 ],
 "metadata": {
  "kernelspec": {
   "display_name": "Python 3",
   "language": "python",
   "name": "python3"
  },
  "language_info": {
   "codemirror_mode": {
    "name": "ipython",
    "version": 2
   },
   "file_extension": ".py",
   "mimetype": "text/x-python",
   "name": "python",
   "nbconvert_exporter": "python",
   "pygments_lexer": "ipython2",
   "version": "2.7.6"
  }
 },
 "nbformat": 4,
 "nbformat_minor": 5
}
