{
 "cells": [
  {
   "cell_type": "code",
   "id": "initial_id",
   "metadata": {
    "collapsed": true,
    "ExecuteTime": {
     "end_time": "2025-04-07T19:36:47.721656Z",
     "start_time": "2025-04-07T19:36:47.192099Z"
    }
   },
   "source": [
    "from dotenv import load_dotenv\n",
    "import os\n",
    "from langchain_community.tools.tavily_search import TavilySearchResults\n",
    "\n",
    "load_dotenv()\n",
    "tavily_api_key = os.getenv(\"TAVILY_API_KEY\")"
   ],
   "outputs": [],
   "execution_count": 6
  },
  {
   "metadata": {
    "ExecuteTime": {
     "end_time": "2025-04-08T05:47:24.816074Z",
     "start_time": "2025-04-08T05:46:57.139135Z"
    }
   },
   "cell_type": "code",
   "source": [
    "search = TavilySearchResults()\n",
    "\n",
    "search.invoke(\"How many calories on average does leg press burn if weight is 80kg\")"
   ],
   "id": "11869ffb14770c7",
   "outputs": [
    {
     "data": {
      "text/plain": [
       "[{'title': 'How much calories does a single rep of leg press burn? - Quora',\n",
       "  'url': 'https://www.quora.com/How-much-calories-does-a-single-rep-of-leg-press-burn',\n",
       "  'content': 'It has to be done for health and if you want to have weight control. ... Calories burned per hour at 80kg weight: Rowing - 500–1000. Cycling',\n",
       "  'score': 0.8051581},\n",
       " {'title': 'Calories Burned for Squats on Leg Press Machine - SparkPeople',\n",
       "  'url': 'https://www.sparkpeople.com/resource/calories_burned.asp?exercise=226&type=1',\n",
       "  'content': \"Calories Burned - Squats on Leg Press Machine\\n\\nFind out how many calories you burn for Squats on Leg Press Machine. The number of calories you burn while exercising is dependent on the exercise you do, your weight, and the time spent doing the exercise. Use the calories burned calculator below to see how many calories you burned during your workout.\\r\\n\\t\\t\\t\\t\\t\\t\\r\\n\\t\\n\\n\\nYour Weight in Pounds:\\r\\n\\t\\t\\t\\t\\t\\t\\n\\n\\n\\nMinutes Spent Exercising:\\r\\n\\t\\t\\t\\t\\t\\t\\n\\n\\n\\nCalculate\\n\\n\\n›\\nCalories Burned: \\xa039\\n\\n\\n\\nRelated Exercises: [...] Heel Raises on Leg Press Machine\\nSingle Leg Squats on Leg Press Machine \\nSeated Leg Extension Machine\\nSeated Leg Curl Machine\\nPreacher Curl Machine\\n\\nRelated Exercises:\\n\\nSparkPeople's features, community and mobile apps closed on August 17, 2021, along with its features and mobile apps. Some of our articles and other content are still available to view. Click here to learn more.\",\n",
       "  'score': 0.48191768},\n",
       " {'title': 'Leg Press Calories Burned | Can You Burn Fat On The Leg Press?',\n",
       "  'url': 'https://selectfitness.com/blogs/leg-press-machines/leg-press-calories-burned?srsltid=AfmBOoqXcg_4siRjWv9qqCV53MtQFDCqFKlxWLPdE05mhdW8woZPBWMB',\n",
       "  'content': 'Body Weight X Intensity expressed as a decimal from 0-1 = Calories per hour, Divided by 60 = Calories burned per minute. A 150-pound person',\n",
       "  'score': 0.4549328},\n",
       " {'title': 'Leg Press Calories Burned Calculator',\n",
       "  'url': 'https://calculator.academy/leg-press-calories-burned-calculator/',\n",
       "  'content': 'Enter the total weight lifted and the number of reps into the calculator to determine the total calories burned from the leg press.',\n",
       "  'score': 0.30213413},\n",
       " {'title': 'Workout Calories Burned - Culinary Schools',\n",
       "  'url': 'https://www.culinaryschools.org/blog/workout-calories/',\n",
       "  'content': 'Doing\\xa0shoulder presses\\xa0help increase muscle and bone strength, as well as improve stability in your shoulders and arms.[18] As for how much calories it can burn, note that strength exercises usually don’t burn as much as cardio workouts. If you weight 150 lbs., you’ll burn around 36 calories for every 10-minutes of a\\xa0seated dumbbell shoulder press.[19]\\n\\nChest Presses [...] Mountain climbers work several muscle groups at once, such as your leg muscles, glutes, triceps, shoulders and core muscles. It’s also\\xa0less straining on the spine\\xa0compared to ab workouts that make you lie on your back.[16] For\\xa0calories burned, if you weight around 150 lbs., you can burn 86 calories with 10 minutes of mountain climbers.[17] [...] This is another strength exercise that targets your upper body. It works your shoulder muscles, pectorals, and triceps.\\xa0Chest presses\\xa0are also considered one of the best chest exercises for building upper body strength.[20] Again, for best results, do this exercise with a personal trainer. Try chest presses with dumbbells if you’re uncomfortable with heavier barbells. For every 10 minutes, a person who weighs 150 lbs. can burn\\xa036 calories\\xa0by doing chest presses.[21]',\n",
       "  'score': 0.2781592}]"
      ]
     },
     "execution_count": 39,
     "metadata": {},
     "output_type": "execute_result"
    }
   ],
   "execution_count": 39
  },
  {
   "metadata": {
    "ExecuteTime": {
     "end_time": "2025-04-07T19:48:04.556038Z",
     "start_time": "2025-04-07T19:47:49.055231Z"
    }
   },
   "cell_type": "code",
   "source": [
    "from langchain_community.document_loaders import WebBaseLoader\n",
    "from langchain_community.vectorstores import FAISS\n",
    "from langchain_huggingface.embeddings import HuggingFaceEmbeddings\n",
    "from langchain_text_splitters import RecursiveCharacterTextSplitter\n",
    "\n",
    "# Load web content\n",
    "loader = WebBaseLoader(\"https://docs.smith.langchain.com/overview\")\n",
    "docs = loader.load()\n",
    "print(docs)\n",
    "\n",
    "# Split the content\n",
    "documents = RecursiveCharacterTextSplitter(\n",
    "    chunk_size=1000, chunk_overlap=200\n",
    ").split_documents(docs)\n",
    "\n",
    "# Use Sentence Transformers model (lightweight & fast)\n",
    "embedding_model = HuggingFaceEmbeddings(model_name=\"all-MiniLM-L6-v2\")\n",
    "\n",
    "# Create vector store\n",
    "vector = FAISS.from_documents(documents, embedding_model)\n",
    "\n",
    "# Get retriever\n",
    "retriever = vector.as_retriever()\n"
   ],
   "id": "bbfba2f6bd50ad02",
   "outputs": [],
   "execution_count": 17
  },
  {
   "metadata": {
    "ExecuteTime": {
     "end_time": "2025-04-07T19:47:28.644882Z",
     "start_time": "2025-04-07T19:47:28.302150Z"
    }
   },
   "cell_type": "code",
   "source": "retriever.invoke(\"is langsmith open source?\")",
   "id": "904bedf37e32eae0",
   "outputs": [
    {
     "data": {
      "text/plain": [
       "[Document(id='85eeec1d-705b-43c6-b75a-ecabc98a8031', metadata={'source': 'https://docs.smith.langchain.com/overview', 'title': 'Get started with LangSmith | 🦜️🛠️ LangSmith', 'description': 'LangSmith is a platform for building production-grade LLM applications.', 'language': 'en'}, page_content='Get started with LangSmith | 🦜️🛠️ LangSmith'),\n",
       " Document(id='5abe06a0-aa85-4891-a843-0c6205cb3b59', metadata={'source': 'https://docs.smith.langchain.com/overview', 'title': 'Get started with LangSmith | 🦜️🛠️ LangSmith', 'description': 'LangSmith is a platform for building production-grade LLM applications.', 'language': 'en'}, page_content='Skip to main contentJoin us at  Interrupt: The Agent AI Conference by LangChain on May 13 & 14 in San Francisco!API ReferenceRESTPythonJS/TSSearchRegionUSEUGo to AppGet StartedObservabilityEvaluationPrompt EngineeringDeployment (LangGraph Platform)AdministrationSelf-hostingPricingReferenceCloud architecture and scalabilityAuthz and AuthnAuthentication methodsdata_formatsEvaluationDataset transformationsRegions FAQsdk_referenceGet StartedOn this pageGet started with LangSmith\\nLangSmith is a platform for building production-grade LLM applications.\\nIt allows you to closely monitor and evaluate your application, so you can ship quickly and with confidence.\\nObservabilityAnalyze traces in LangSmith and configure metrics, dashboards, alerts based on these.EvalsEvaluate your application over production traffic — score application performance and get human feedback on your data.Prompt EngineeringIterate on prompts, with automatic version control and collaboration features.'),\n",
       " Document(id='c741a454-fea3-4f47-8430-6f7423b7eae4', metadata={'source': 'https://docs.smith.langchain.com/overview', 'title': 'Get started with LangSmith | 🦜️🛠️ LangSmith', 'description': 'LangSmith is a platform for building production-grade LLM applications.', 'language': 'en'}, page_content=\"LangSmith + LangChain OSSLangSmith is framework-agnostic —\\xa0it can be used with or without LangChain's open source frameworks langchain and langgraph.If you are using either of these, you can enable LangSmith tracing with a single environment variable.\\nFor more see the how-to guide for setting up LangSmith with LangChain or setting up LangSmith with LangGraph.\\nObservability\\u200b\\nObservability is important for any software application, but especially so for LLM applications. LLMs are non-deterministic by nature, meaning they can produce unexpected results. This makes them trickier than normal to debug.\\nThis is where LangSmith can help! LangSmith has LLM-native observability, allowing you to get meaningful insights from your application. LangSmith’s observability features have you covered throughout all stages of application development - from prototyping, to beta testing, to production.\"),\n",
       " Document(id='8f2fee59-f8a9-4f41-bb9e-926a771fcc76', metadata={'source': 'https://docs.smith.langchain.com/overview', 'title': 'Get started with LangSmith | 🦜️🛠️ LangSmith', 'description': 'LangSmith is a platform for building production-grade LLM applications.', 'language': 'en'}, page_content='Get started by adding tracing to your application.\\nCreate dashboards to view key metrics like RPS, error rates and costs.\\n\\nEvals\\u200b\\nThe quality and development speed of AI applications depends on high-quality evaluation datasets and metrics to test and optimize your applications on. The LangSmith SDK and UI make building and running high-quality evaluations easy.\\n\\nGet started by creating your first evaluation.\\nQuickly assess the performance of your application using our off-the-shelf evaluators as a starting point.\\nAnalyze results of evaluations in the LangSmith UI and compare results over time.\\nEasily collect human feedback on your data to improve your application.\\n\\nPrompt Engineering\\u200b\\nWhile traditional software applications are built by writing code, AI applications involve writing prompts to instruct the LLM on what to do. LangSmith provides a set of tools designed to enable and facilitate prompt engineering to help you find the perfect prompt for your application.')]"
      ]
     },
     "execution_count": 15,
     "metadata": {},
     "output_type": "execute_result"
    }
   ],
   "execution_count": 15
  },
  {
   "metadata": {
    "ExecuteTime": {
     "end_time": "2025-04-08T05:18:55.412984Z",
     "start_time": "2025-04-08T05:18:55.328099Z"
    }
   },
   "cell_type": "code",
   "source": [
    "from langchain.tools.retriever import create_retriever_tool\n",
    "\n",
    "retriever_tool = create_retriever_tool(\n",
    "    retriever,\n",
    "    \"langsmith_search\",\n",
    "    \"Search for information about LangSmith. For any questions about LangSmith, you must use this tool!\",\n",
    ")"
   ],
   "id": "29fd32a95aa864d7",
   "outputs": [],
   "execution_count": 19
  },
  {
   "metadata": {
    "ExecuteTime": {
     "end_time": "2025-04-08T05:19:05.003444Z",
     "start_time": "2025-04-08T05:19:04.995814Z"
    }
   },
   "cell_type": "code",
   "source": "tools = [search, retriever_tool]",
   "id": "960fbfa0c6fae392",
   "outputs": [],
   "execution_count": 20
  },
  {
   "metadata": {
    "ExecuteTime": {
     "end_time": "2025-04-08T05:24:47.701962Z",
     "start_time": "2025-04-08T05:24:44.717539Z"
    }
   },
   "cell_type": "code",
   "source": [
    "from langchain_ollama import ChatOllama\n",
    "from langchain_core.messages import HumanMessage\n",
    "\n",
    "llm = ChatOllama(model='llama3.2')\n",
    "\n",
    "response = llm.invoke([\n",
    "    HumanMessage(content=\"Tell me a fun fact about space, make it short and sweet\")\n",
    "])\n",
    "\n",
    "response.content"
   ],
   "id": "69398274db3ffad2",
   "outputs": [
    {
     "data": {
      "text/plain": [
       "\"Did you know that there is a giant storm on Jupiter that has been raging for at least 187 years? The Great Red Spot is a swirling anticyclonic storm that's larger than Earth itself!\""
      ]
     },
     "execution_count": 31,
     "metadata": {},
     "output_type": "execute_result"
    }
   ],
   "execution_count": 31
  },
  {
   "metadata": {
    "ExecuteTime": {
     "end_time": "2025-04-08T05:24:50.556342Z",
     "start_time": "2025-04-08T05:24:49.533584Z"
    }
   },
   "cell_type": "code",
   "source": [
    "from langchain import hub\n",
    "\n",
    "# Get the prompt to use - you can modify this!\n",
    "prompt = hub.pull(\"hwchase17/openai-functions-agent\")\n",
    "prompt.messages"
   ],
   "id": "d74c75f405b70f1",
   "outputs": [
    {
     "data": {
      "text/plain": [
       "[SystemMessagePromptTemplate(prompt=PromptTemplate(input_variables=[], input_types={}, partial_variables={}, template='You are a helpful assistant'), additional_kwargs={}),\n",
       " MessagesPlaceholder(variable_name='chat_history', optional=True),\n",
       " HumanMessagePromptTemplate(prompt=PromptTemplate(input_variables=['input'], input_types={}, partial_variables={}, template='{input}'), additional_kwargs={}),\n",
       " MessagesPlaceholder(variable_name='agent_scratchpad')]"
      ]
     },
     "execution_count": 32,
     "metadata": {},
     "output_type": "execute_result"
    }
   ],
   "execution_count": 32
  },
  {
   "metadata": {
    "ExecuteTime": {
     "end_time": "2025-04-08T05:24:51.500707Z",
     "start_time": "2025-04-08T05:24:51.490874Z"
    }
   },
   "cell_type": "code",
   "source": [
    "from langchain.agents import create_tool_calling_agent\n",
    "\n",
    "agent = create_tool_calling_agent(llm,tools,prompt)"
   ],
   "id": "84b9ed72c37b8085",
   "outputs": [],
   "execution_count": 33
  },
  {
   "metadata": {
    "ExecuteTime": {
     "end_time": "2025-04-08T05:24:52.615003Z",
     "start_time": "2025-04-08T05:24:52.611933Z"
    }
   },
   "cell_type": "code",
   "source": [
    "from langchain.agents import AgentExecutor\n",
    "\n",
    "agent_executor = AgentExecutor(agent=agent, tools=tools, verbose=True)"
   ],
   "id": "9e68596a6df022ae",
   "outputs": [],
   "execution_count": 34
  },
  {
   "metadata": {
    "ExecuteTime": {
     "end_time": "2025-04-08T05:43:26.830228Z",
     "start_time": "2025-04-08T05:43:22.088584Z"
    }
   },
   "cell_type": "code",
   "source": "agent_executor.invoke({\"input\": \"hi there!\"})",
   "id": "132118c8d94b9753",
   "outputs": [
    {
     "name": "stdout",
     "output_type": "stream",
     "text": [
      "\n",
      "\n",
      "\u001B[1m> Entering new AgentExecutor chain...\u001B[0m\n",
      "\u001B[32;1m\u001B[1;3m\n",
      "Invoking: `langsmith_search` with `{'query': 'LangSmith'}`\n",
      "\n",
      "\n",
      "\u001B[0m\u001B[33;1m\u001B[1;3mGet started with LangSmith | 🦜️🛠️ LangSmith\n",
      "\n",
      "LangSmith + LangChain OSSLangSmith is framework-agnostic — it can be used with or without LangChain's open source frameworks langchain and langgraph.If you are using either of these, you can enable LangSmith tracing with a single environment variable.\n",
      "For more see the how-to guide for setting up LangSmith with LangChain or setting up LangSmith with LangGraph.\n",
      "Observability​\n",
      "Observability is important for any software application, but especially so for LLM applications. LLMs are non-deterministic by nature, meaning they can produce unexpected results. This makes them trickier than normal to debug.\n",
      "This is where LangSmith can help! LangSmith has LLM-native observability, allowing you to get meaningful insights from your application. LangSmith’s observability features have you covered throughout all stages of application development - from prototyping, to beta testing, to production.\n",
      "\n",
      "Skip to main contentJoin us at  Interrupt: The Agent AI Conference by LangChain on May 13 & 14 in San Francisco!API ReferenceRESTPythonJS/TSSearchRegionUSEUGo to AppGet StartedObservabilityEvaluationPrompt EngineeringDeployment (LangGraph Platform)AdministrationSelf-hostingPricingReferenceCloud architecture and scalabilityAuthz and AuthnAuthentication methodsdata_formatsEvaluationDataset transformationsRegions FAQsdk_referenceGet StartedOn this pageGet started with LangSmith\n",
      "LangSmith is a platform for building production-grade LLM applications.\n",
      "It allows you to closely monitor and evaluate your application, so you can ship quickly and with confidence.\n",
      "ObservabilityAnalyze traces in LangSmith and configure metrics, dashboards, alerts based on these.EvalsEvaluate your application over production traffic — score application performance and get human feedback on your data.Prompt EngineeringIterate on prompts, with automatic version control and collaboration features.\n",
      "\n",
      "Get started by adding tracing to your application.\n",
      "Create dashboards to view key metrics like RPS, error rates and costs.\n",
      "\n",
      "Evals​\n",
      "The quality and development speed of AI applications depends on high-quality evaluation datasets and metrics to test and optimize your applications on. The LangSmith SDK and UI make building and running high-quality evaluations easy.\n",
      "\n",
      "Get started by creating your first evaluation.\n",
      "Quickly assess the performance of your application using our off-the-shelf evaluators as a starting point.\n",
      "Analyze results of evaluations in the LangSmith UI and compare results over time.\n",
      "Easily collect human feedback on your data to improve your application.\n",
      "\n",
      "Prompt Engineering​\n",
      "While traditional software applications are built by writing code, AI applications involve writing prompts to instruct the LLM on what to do. LangSmith provides a set of tools designed to enable and facilitate prompt engineering to help you find the perfect prompt for your application.\u001B[0m\u001B[32;1m\u001B[1;3mTo get started with LangSmith, you can begin by adding tracing to your application. This will allow you to closely monitor and evaluate your LLM application. Additionally, you can create dashboards to view key metrics such as RPS, error rates, and costs. \n",
      "\n",
      "For more information on getting started with LangSmith, I recommend checking out the [LangSmith documentation](https://langsmith.io/docs) or reaching out to their support team for assistance.\n",
      "\n",
      "If you're looking for help with a specific aspect of LangSmith, feel free to ask and I'll do my best to assist you.\u001B[0m\n",
      "\n",
      "\u001B[1m> Finished chain.\u001B[0m\n"
     ]
    },
    {
     "data": {
      "text/plain": [
       "{'input': 'hi there!',\n",
       " 'output': \"To get started with LangSmith, you can begin by adding tracing to your application. This will allow you to closely monitor and evaluate your LLM application. Additionally, you can create dashboards to view key metrics such as RPS, error rates, and costs. \\n\\nFor more information on getting started with LangSmith, I recommend checking out the [LangSmith documentation](https://langsmith.io/docs) or reaching out to their support team for assistance.\\n\\nIf you're looking for help with a specific aspect of LangSmith, feel free to ask and I'll do my best to assist you.\"}"
      ]
     },
     "execution_count": 37,
     "metadata": {},
     "output_type": "execute_result"
    }
   ],
   "execution_count": 37
  },
  {
   "metadata": {},
   "cell_type": "code",
   "outputs": [],
   "execution_count": null,
   "source": "",
   "id": "4f1158cc017efa29"
  }
 ],
 "metadata": {
  "kernelspec": {
   "display_name": "Python 3",
   "language": "python",
   "name": "python3"
  },
  "language_info": {
   "codemirror_mode": {
    "name": "ipython",
    "version": 2
   },
   "file_extension": ".py",
   "mimetype": "text/x-python",
   "name": "python",
   "nbconvert_exporter": "python",
   "pygments_lexer": "ipython2",
   "version": "2.7.6"
  }
 },
 "nbformat": 4,
 "nbformat_minor": 5
}
