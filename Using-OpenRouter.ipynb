{
 "cells": [
  {
   "cell_type": "code",
   "id": "initial_id",
   "metadata": {
    "collapsed": true,
    "ExecuteTime": {
     "end_time": "2025-04-08T06:10:12.415140Z",
     "start_time": "2025-04-08T06:10:10.980477Z"
    }
   },
   "source": [
    "import os\n",
    "from dotenv import load_dotenv\n",
    "from openai import OpenAI\n",
    "\n",
    "load_dotenv()\n",
    "\n",
    "client = OpenAI(\n",
    "    base_url=os.getenv(\"OPENAI_API_BASE\"),\n",
    "    api_key=os.getenv(\"OPENAI_API_KEY\"),\n",
    ")\n",
    "\n",
    "response = client.chat.completions.create(\n",
    "    model=\"openchat/openchat-7b\",\n",
    "    messages=[\n",
    "        {\"role\": \"system\", \"content\": \"You are a helpful AI fitness assistant.\"},\n",
    "        {\"role\": \"user\", \"content\": \"Give me 3 good chest exercises and how many calories I’ll burn doing them for 30 minutes. I weigh 75kg. Please be concise only give 1 sentence answer per exercise\"}\n",
    "    ]\n",
    ")\n",
    "\n",
    "print(response.choices[0].message.content)\n"
   ],
   "outputs": [
    {
     "name": "stdout",
     "output_type": "stream",
     "text": [
      "Bench Press: Aids in strength & muscle hypertrophy\n",
      "15 Calories Burned per min = 120min calories burned total; Pushups: 0 Cal per minute; Cardio: Cyclic movement engaging cardiovascularly\n",
      "82 Cal per minute = 783 calorie burnt total ;Plank : .09 per minute burn of calories or burning 3.6 for half an hour while maintaining\n"
     ]
    }
   ],
   "execution_count": 26
  },
  {
   "metadata": {
    "ExecuteTime": {
     "end_time": "2025-04-08T06:10:21.079256Z",
     "start_time": "2025-04-08T06:10:21.069536Z"
    }
   },
   "cell_type": "code",
   "source": [
    "from langchain.tools import tool\n",
    "\n",
    "@tool\n",
    "def estimate_calories(exercise: str, duration_min: int, weight_kg: float) -> str:\n",
    "    \"\"\"This function is used to calculate calories for an exercise. Input the Exercise as string and the duration and the person weight to calculate.\"\"\"\n",
    "    met_values = {\n",
    "        \"push ups\": 3.8,\n",
    "        \"bench press\": 6.0,\n",
    "        \"dumbbell flyes\": 4.0,\n",
    "    }\n",
    "    met = met_values.get(exercise.lower(), 4.0)\n",
    "    calories = (met * 3.5 * weight_kg / 200) * duration_min\n",
    "    return f\"Estimated {calories:.1f} calories burned doing {exercise} for {duration_min} mins at {weight_kg}kg.\"\n"
   ],
   "id": "c6918e1e68e21595",
   "outputs": [],
   "execution_count": 27
  },
  {
   "metadata": {
    "ExecuteTime": {
     "end_time": "2025-04-08T06:37:30.765531Z",
     "start_time": "2025-04-08T06:37:29.747197Z"
    }
   },
   "cell_type": "code",
   "source": [
    "from langchain_openai import ChatOpenAI\n",
    "from langchain_core.prompts import ChatPromptTemplate\n",
    "import os\n",
    "from dotenv import load_dotenv\n",
    "\n",
    "load_dotenv()\n",
    "\n",
    "llm = ChatOpenAI(\n",
    "    model=\"google/gemini-2.0-flash-001\",\n",
    "    api_key=os.getenv(\"OPENAI_API_KEY\"),\n",
    "    base_url=os.getenv(\"OPENAI_API_BASE\"),\n",
    "    temperature=0,\n",
    ")\n",
    "\n",
    "prompt = ChatPromptTemplate.from_template(\"tell me a short joke about {topic}\")\n",
    "openrouter_chain = prompt | llm\n",
    "print(openrouter_chain.invoke({\"topic\": \"banana\"}))\n"
   ],
   "id": "8701f1c8cb446347",
   "outputs": [
    {
     "name": "stdout",
     "output_type": "stream",
     "text": [
      "content=\"Why did the banana go to the doctor?\\n\\nBecause it wasn't peeling well!\\n\" additional_kwargs={'refusal': None} response_metadata={'token_usage': {'completion_tokens': 19, 'prompt_tokens': 7, 'total_tokens': 26, 'completion_tokens_details': None, 'prompt_tokens_details': None}, 'model_name': 'google/gemini-2.0-flash-001', 'system_fingerprint': None, 'id': 'gen-1744094250-bj2nmf06JYUjCMP1ukvV', 'finish_reason': 'stop', 'logprobs': None} id='run-555d2732-ff0e-4a10-b895-3d2f9748076c-0' usage_metadata={'input_tokens': 7, 'output_tokens': 19, 'total_tokens': 26, 'input_token_details': {}, 'output_token_details': {}}\n"
     ]
    }
   ],
   "execution_count": 76
  },
  {
   "metadata": {
    "ExecuteTime": {
     "end_time": "2025-04-08T06:37:32.474797Z",
     "start_time": "2025-04-08T06:37:31.513283Z"
    }
   },
   "cell_type": "code",
   "source": [
    "from langchain.agents import initialize_agent, AgentType\n",
    "from langchain import hub\n",
    "\n",
    "tools = [estimate_calories]\n",
    "\n",
    "# Get the prompt to use - you can modify this!\n",
    "prompt = hub.pull(\"hwchase17/openai-functions-agent\")\n",
    "prompt.messages"
   ],
   "id": "8817121df7875a9b",
   "outputs": [
    {
     "data": {
      "text/plain": [
       "[SystemMessagePromptTemplate(prompt=PromptTemplate(input_variables=[], input_types={}, partial_variables={}, template='You are a helpful assistant'), additional_kwargs={}),\n",
       " MessagesPlaceholder(variable_name='chat_history', optional=True),\n",
       " HumanMessagePromptTemplate(prompt=PromptTemplate(input_variables=['input'], input_types={}, partial_variables={}, template='{input}'), additional_kwargs={}),\n",
       " MessagesPlaceholder(variable_name='agent_scratchpad')]"
      ]
     },
     "execution_count": 77,
     "metadata": {},
     "output_type": "execute_result"
    }
   ],
   "execution_count": 77
  },
  {
   "metadata": {
    "ExecuteTime": {
     "end_time": "2025-04-08T06:37:33.006833Z",
     "start_time": "2025-04-08T06:37:32.997087Z"
    }
   },
   "cell_type": "code",
   "source": [
    "from langchain.agents import create_tool_calling_agent\n",
    "\n",
    "agent = create_tool_calling_agent(llm,tools,prompt)"
   ],
   "id": "cb4148b5216f372a",
   "outputs": [],
   "execution_count": 78
  },
  {
   "metadata": {
    "ExecuteTime": {
     "end_time": "2025-04-08T06:37:33.679273Z",
     "start_time": "2025-04-08T06:37:33.675898Z"
    }
   },
   "cell_type": "code",
   "source": [
    "from langchain.agents import AgentExecutor\n",
    "\n",
    "agent_executor = AgentExecutor(agent=agent, tools=tools, verbose=True)"
   ],
   "id": "52a68f28af71772c",
   "outputs": [],
   "execution_count": 79
  },
  {
   "metadata": {
    "ExecuteTime": {
     "end_time": "2025-04-08T06:37:35.035289Z",
     "start_time": "2025-04-08T06:37:34.288249Z"
    }
   },
   "cell_type": "code",
   "source": "agent_executor.invoke({\"input\": \"hi there!\"})",
   "id": "75d2f594114314c4",
   "outputs": [
    {
     "name": "stdout",
     "output_type": "stream",
     "text": [
      "\n",
      "\n",
      "\u001B[1m> Entering new AgentExecutor chain...\u001B[0m\n",
      "\u001B[32;1m\u001B[1;3mHi there! How can I help you?\n",
      "\u001B[0m\n",
      "\n",
      "\u001B[1m> Finished chain.\u001B[0m\n"
     ]
    },
    {
     "data": {
      "text/plain": [
       "{'input': 'hi there!', 'output': 'Hi there! How can I help you?\\n'}"
      ]
     },
     "execution_count": 80,
     "metadata": {},
     "output_type": "execute_result"
    }
   ],
   "execution_count": 80
  },
  {
   "metadata": {},
   "cell_type": "code",
   "outputs": [],
   "execution_count": null,
   "source": "",
   "id": "d1fb9743030c1a82"
  }
 ],
 "metadata": {
  "kernelspec": {
   "display_name": "Python 3",
   "language": "python",
   "name": "python3"
  },
  "language_info": {
   "codemirror_mode": {
    "name": "ipython",
    "version": 2
   },
   "file_extension": ".py",
   "mimetype": "text/x-python",
   "name": "python",
   "nbconvert_exporter": "python",
   "pygments_lexer": "ipython2",
   "version": "2.7.6"
  }
 },
 "nbformat": 4,
 "nbformat_minor": 5
}
