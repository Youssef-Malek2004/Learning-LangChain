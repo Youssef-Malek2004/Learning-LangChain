{
 "cells": [
  {
   "cell_type": "code",
   "id": "initial_id",
   "metadata": {
    "collapsed": true,
    "ExecuteTime": {
     "end_time": "2025-04-02T10:22:50.649438Z",
     "start_time": "2025-04-02T10:22:48.631970Z"
    }
   },
   "source": [
    "from langchain_ollama import ChatOllama\n",
    "from langchain_core.messages import HumanMessage\n",
    "\n",
    "from dotenv import load_dotenv\n",
    "from openai import project\n",
    "\n",
    "load_dotenv()\n",
    "\n",
    "# Initialize the local model (e.g., llama3)\n",
    "model = ChatOllama(model=\"llama3.2\")\n",
    "\n",
    "# Chat\n",
    "response = model.invoke([\n",
    "    HumanMessage(content=\"Tell me a fun fact about space\")\n",
    "])\n",
    "\n",
    "print(response.content)\n"
   ],
   "outputs": [
    {
     "name": "stdout",
     "output_type": "stream",
     "text": [
      "Here's one:\n",
      "\n",
      "Did you know that there is a giant storm on Jupiter that has been raging for at least 187 years? The Great Red Spot, as it's called, is a massive anticyclonic storm that is larger than Earth in diameter and has been continuously observed since 1831. Despite its incredible longevity, scientists are still unsure what causes the storm to persist for so long, and it remains one of the most fascinating phenomena in our solar system!\n"
     ]
    }
   ],
   "execution_count": 17
  },
  {
   "metadata": {
    "ExecuteTime": {
     "end_time": "2025-04-02T10:30:29.330349Z",
     "start_time": "2025-04-02T10:30:28.059187Z"
    }
   },
   "cell_type": "code",
   "source": [
    "from langchain_community.chat_models import ChatOllama\n",
    "from langchain.schema import HumanMessage\n",
    "from langchain_core.tracers.context import tracing_v2_enabled \n",
    "\n",
    "# Wrap LangChain tracing context\n",
    "with tracing_v2_enabled(project_name=\"default\"):\n",
    "    model = ChatOllama(model=\"llama3.2\")\n",
    "    response = model.invoke([\n",
    "        HumanMessage(content=\"What's something cool about ancient Egypt, only say 1 short thing!\")\n",
    "    ])\n",
    "    print(response.content)\n"
   ],
   "id": "5c8089dd872a99db",
   "outputs": [
    {
     "name": "stdout",
     "output_type": "stream",
     "text": [
      "One cool fact about ancient Egypt is that they developed a 365-day calendar, which was 5 days longer than the solar year. This extra 5 days were added as \"epagomenal days\" to keep track of time and align with other celestial events.\n"
     ]
    }
   ],
   "execution_count": 26
  },
  {
   "metadata": {
    "ExecuteTime": {
     "end_time": "2025-04-02T12:29:11.586149Z",
     "start_time": "2025-04-02T12:28:58.111933Z"
    }
   },
   "cell_type": "code",
   "source": [
    "messages = \"What's something cool about fitness\"\n",
    "for token in model.stream(messages):\n",
    "    print(token.content, end=\"|\")"
   ],
   "id": "7d054b0a9190e641",
   "outputs": [
    {
     "name": "stdout",
     "output_type": "stream",
     "text": [
      "There| are| so| many| cool| things| about| fitness|!| Here| are| a| few|:\n",
      "\n",
      "|1|.| **|Progress| over| perfection|**:| Fitness| is| not| just| about| reaching| an| un|att|ain|able| ideal| body| shape| or| size|.| It|'s| about| progress|,| consistency|,| and| self|-im|pro|vement|.| Every| small| step| forward| is| a| success|,| regardless| of| how| far| you|'ve| come|.\n",
      "|2|.| **|Increased| energy|**:| Regular| exercise| can| boost| your| energy| levels| and| make| you| feel| more| alive|.| This| is| because| physical| activity| releases| end|orph|ins|,| also| known| as| \"|feel|-good|\"| hormones|,| which| can| help| alleviate| symptoms| of| fatigue| and| improve| overall| well|-being|.\n",
      "|3|.| **|M|ental| health| benefits|**:| Exercise| has| been| shown| to| have| a| positive| impact| on| mental| health|,| reducing| stress|,| anxiety|,| and| depression|.| Physical| activity| can| even| help| reduce| symptoms| of| post|-tra|umatic| stress| disorder| (|PT|SD|).\n",
      "|4|.| **|Community| connection|**:| Join|ing| a| fitness| class|,| working| out| with| a| friend|,| or| participating| in| a| sports| team| can| be| an| incredible| way| to| meet| new| people| and| build| meaningful| relationships|.| Exercise| is| often| more| enjoyable| when| shared| with| others|!\n",
      "|5|.| **|Self|-care| and| self|-lo|ve|**:| Fitness| can| be| a| powerful| tool| for| self|-care| and| self|-lo|ve|.| It|'s| a| chance| to| focus| on| your| own| well|-being|,| prioritize| your| health|,| and| celebrate| your| unique| strengths| and| abilities|.\n",
      "|6|.| **|Increased| strength| and| resilience|**:| Regular| exercise| can| help| build| physical| strength|,| endurance|,| and| resilience| –| not| just| in| the| body|,| but| also| in| life|.| By| pushing| yourself| outside| of| your| comfort| zone|,| you| can| develop| a| stronger| sense| of| self|-confidence| and| ability| to| handle| challenges|.\n",
      "|7|.| **|The| '|runner|'s| high|'| phenomenon|**:| Exercise| releases| dopamine|,| which| is| associated| with| feelings| of| pleasure| and| happiness|.| This| natural| \"|high|\"| from| physical| activity| can| be| addictive| –| and| in| the| best| possible| way|!\n",
      "|8|.| **|Weight| loss| without| deprivation|**:| When| you| focus| on| progress| over| perfection|,| you|'ll| find| that| weight| loss| becomes| more| sustainable| and| enjoyable|.| By| incorporating| healthy| habits| into| your| daily| routine|,| rather| than| cutting| out| entire| food| groups| or| restricting| yourself| too| much|,| you|'re| more| likely| to| stick| with| it| long|-term|.\n",
      "|9|.| **|The| power| of| movement|**:| Fitness| isn|'t| just| about| physical| exercise|;| it|'s| also| about| exploring| your| creativity|,| trying| new| things|,| and| experiencing| the| world| around| you|.| Whether| it|'s| dancing|,| hiking|,| or| simply| moving| your| body| in| a| way| that| feels| good|,| exercise| can| be| an| incredible| source| of| joy| and| inspiration|.\n",
      "|10|.| **|A| lifelong| journey|**:| Fitness| is| not| a| destination| –| it|'s| a| continuous| journey| of| growth|,| self|-dis|covery|,| and| transformation|.| By| embracing| the| process| and| focusing| on| progress| over| perfection|,| you|'ll| find| that| fitness| becomes| an| enjoyable| and| rewarding| part| of| your| life|.\n",
      "\n",
      "|What| do| you| think|?| Is| there| something| cool| about| fitness| that| reson|ates| with| you|?||"
     ]
    }
   ],
   "execution_count": 34
  },
  {
   "metadata": {
    "ExecuteTime": {
     "end_time": "2025-04-02T10:48:10.227215Z",
     "start_time": "2025-04-02T10:48:05.881959Z"
    }
   },
   "cell_type": "code",
   "source": "    model.invoke(\"What is space, answer in a funny way\")",
   "id": "8ce32fca016af3b5",
   "outputs": [
    {
     "data": {
      "text/plain": [
       "AIMessage(content=\"So, you want to know about space? Well, let me tell you - it's like the ultimate roommate who never pays rent. It just takes up all the space, but it doesn't contribute to anything except making us feel tiny and insignificant.\\n\\nImagine being in a huge room with no furniture, no walls, and no ceiling. That's basically what space is. It's just a big ol' empty void that stretches out forever in every direction. And if you think about it, that's kind of cool - I mean, who needs boundaries or rules when you can just float around in the vastness of the universe?\\n\\nBut seriously, space is actually really complicated and fascinating stuff. It's made up of stars, planets, galaxies, and all sorts of other weird and wonderful things. And if you're feeling adventurous, you can even explore it with spacecraft and discover new worlds.\\n\\nSo, that's space in a nutshell - or rather, an asteroid shell. It's like the ultimate mystery waiting to be solved, but don't worry, it's not going anywhere (for now).\", additional_kwargs={}, response_metadata={'model': 'llama3.2', 'created_at': '2025-04-02T10:48:10.221942Z', 'message': {'role': 'assistant', 'content': ''}, 'done_reason': 'stop', 'done': True, 'total_duration': 4337062333, 'load_duration': 28147708, 'prompt_eval_count': 34, 'prompt_eval_duration': 107000000, 'eval_count': 220, 'eval_duration': 4200000000}, id='run-dad9ca68-e0be-44f9-a74f-2ebc690a4c23-0')"
      ]
     },
     "execution_count": 33,
     "metadata": {},
     "output_type": "execute_result"
    }
   ],
   "execution_count": 33
  },
  {
   "metadata": {
    "ExecuteTime": {
     "end_time": "2025-04-02T12:40:35.223225Z",
     "start_time": "2025-04-02T12:40:35.220205Z"
    }
   },
   "cell_type": "code",
   "source": [
    "from langchain_core.runnables import RunnableLambda, RunnablePassthrough\n",
    "\n",
    "def shout(text):\n",
    "    return text.upper() + \"!!!\"\n",
    "\n",
    "chain = (\n",
    "    RunnablePassthrough() \n",
    "    | RunnableLambda(shout) \n",
    "    | RunnableLambda(lambda x: x + \" 👋\")\n",
    ")\n"
   ],
   "id": "1e4175ede4d489c4",
   "outputs": [],
   "execution_count": 35
  },
  {
   "metadata": {
    "ExecuteTime": {
     "end_time": "2025-04-02T12:41:10.664033Z",
     "start_time": "2025-04-02T12:41:10.648734Z"
    }
   },
   "cell_type": "code",
   "source": [
    "chain.invoke(\"hello\") \n",
    "# Output: \"HELLO!!! 👋\"\n"
   ],
   "id": "9fdfc60e7ba3b8f6",
   "outputs": [
    {
     "data": {
      "text/plain": [
       "'HELLO!!! 👋'"
      ]
     },
     "execution_count": 36,
     "metadata": {},
     "output_type": "execute_result"
    }
   ],
   "execution_count": 36
  },
  {
   "metadata": {},
   "cell_type": "code",
   "outputs": [],
   "execution_count": null,
   "source": "",
   "id": "dd870c46da6e58d2"
  }
 ],
 "metadata": {
  "kernelspec": {
   "display_name": "Python 3",
   "language": "python",
   "name": "python3"
  },
  "language_info": {
   "codemirror_mode": {
    "name": "ipython",
    "version": 2
   },
   "file_extension": ".py",
   "mimetype": "text/x-python",
   "name": "python",
   "nbconvert_exporter": "python",
   "pygments_lexer": "ipython2",
   "version": "2.7.6"
  }
 },
 "nbformat": 4,
 "nbformat_minor": 5
}
